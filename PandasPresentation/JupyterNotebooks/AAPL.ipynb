{
 "cells": [
  {
   "cell_type": "code",
   "execution_count": 1,
   "metadata": {
    "collapsed": true
   },
   "outputs": [],
   "source": [
    "weather_pth = r'C:\\Users\\anat.shkolyar\\PycharmProjects\\pandas_workshop\\data\\weather.db'"
   ]
  },
  {
   "cell_type": "code",
   "execution_count": 2,
   "metadata": {
    "collapsed": true
   },
   "outputs": [],
   "source": [
    "aapl_pth = r'C:\\Users\\anat.shkolyar\\PycharmProjects\\pandas_workshop\\data\\AAPL.csv.bz2'"
   ]
  },
  {
   "cell_type": "code",
   "execution_count": 3,
   "metadata": {
    "collapsed": true
   },
   "outputs": [],
   "source": [
    "%matplotlib inline\n",
    "import pandas as pd"
   ]
  },
  {
   "cell_type": "code",
   "execution_count": 4,
   "metadata": {},
   "outputs": [
    {
     "data": {
      "text/html": [
       "<div>\n",
       "<style>\n",
       "    .dataframe thead tr:only-child th {\n",
       "        text-align: right;\n",
       "    }\n",
       "\n",
       "    .dataframe thead th {\n",
       "        text-align: left;\n",
       "    }\n",
       "\n",
       "    .dataframe tbody tr th {\n",
       "        vertical-align: top;\n",
       "    }\n",
       "</style>\n",
       "<table border=\"1\" class=\"dataframe\">\n",
       "  <thead>\n",
       "    <tr style=\"text-align: right;\">\n",
       "      <th></th>\n",
       "      <th>Open</th>\n",
       "      <th>High</th>\n",
       "      <th>Low</th>\n",
       "      <th>Close</th>\n",
       "      <th>Volume</th>\n",
       "      <th>Adj Close</th>\n",
       "    </tr>\n",
       "    <tr>\n",
       "      <th>Date</th>\n",
       "      <th></th>\n",
       "      <th></th>\n",
       "      <th></th>\n",
       "      <th></th>\n",
       "      <th></th>\n",
       "      <th></th>\n",
       "    </tr>\n",
       "  </thead>\n",
       "  <tbody>\n",
       "    <tr>\n",
       "      <th>2016-06-17</th>\n",
       "      <td>96.620003</td>\n",
       "      <td>96.650002</td>\n",
       "      <td>95.300003</td>\n",
       "      <td>95.330002</td>\n",
       "      <td>60595000</td>\n",
       "      <td>95.330002</td>\n",
       "    </tr>\n",
       "    <tr>\n",
       "      <th>2016-06-16</th>\n",
       "      <td>96.449997</td>\n",
       "      <td>97.750000</td>\n",
       "      <td>96.070000</td>\n",
       "      <td>97.550003</td>\n",
       "      <td>31236300</td>\n",
       "      <td>97.550003</td>\n",
       "    </tr>\n",
       "    <tr>\n",
       "      <th>2016-06-15</th>\n",
       "      <td>97.820000</td>\n",
       "      <td>98.410004</td>\n",
       "      <td>97.029999</td>\n",
       "      <td>97.139999</td>\n",
       "      <td>29254300</td>\n",
       "      <td>97.139999</td>\n",
       "    </tr>\n",
       "    <tr>\n",
       "      <th>2016-06-14</th>\n",
       "      <td>97.320000</td>\n",
       "      <td>98.480003</td>\n",
       "      <td>96.750000</td>\n",
       "      <td>97.459999</td>\n",
       "      <td>31870300</td>\n",
       "      <td>97.459999</td>\n",
       "    </tr>\n",
       "    <tr>\n",
       "      <th>2016-06-13</th>\n",
       "      <td>98.690002</td>\n",
       "      <td>99.120003</td>\n",
       "      <td>97.099998</td>\n",
       "      <td>97.339996</td>\n",
       "      <td>37612900</td>\n",
       "      <td>97.339996</td>\n",
       "    </tr>\n",
       "  </tbody>\n",
       "</table>\n",
       "</div>"
      ],
      "text/plain": [
       "                 Open       High        Low      Close    Volume  Adj Close\n",
       "Date                                                                       \n",
       "2016-06-17  96.620003  96.650002  95.300003  95.330002  60595000  95.330002\n",
       "2016-06-16  96.449997  97.750000  96.070000  97.550003  31236300  97.550003\n",
       "2016-06-15  97.820000  98.410004  97.029999  97.139999  29254300  97.139999\n",
       "2016-06-14  97.320000  98.480003  96.750000  97.459999  31870300  97.459999\n",
       "2016-06-13  98.690002  99.120003  97.099998  97.339996  37612900  97.339996"
      ]
     },
     "execution_count": 4,
     "metadata": {},
     "output_type": "execute_result"
    }
   ],
   "source": [
    "df = pd.read_csv(aapl_pth, parse_dates=['Date'], index_col='Date')\n",
    "df.head()  # Apple stock price at different points in the day (columns)"
   ]
  },
  {
   "cell_type": "code",
   "execution_count": 5,
   "metadata": {},
   "outputs": [
    {
     "data": {
      "text/plain": [
       "252"
      ]
     },
     "execution_count": 5,
     "metadata": {},
     "output_type": "execute_result"
    }
   ],
   "source": [
    "# How many trading days in 2010\n",
    "len(df.loc['2010'])"
   ]
  },
  {
   "cell_type": "code",
   "execution_count": 7,
   "metadata": {},
   "outputs": [
    {
     "data": {
      "text/plain": [
       "757"
      ]
     },
     "execution_count": 7,
     "metadata": {},
     "output_type": "execute_result"
    }
   ],
   "source": [
    "# range\n",
    "len(df.loc['2010-12-31':'2008-01-01'])  # order is reversed (2010:2008) because index is in descending order"
   ]
  },
  {
   "cell_type": "code",
   "execution_count": 8,
   "metadata": {
    "collapsed": true
   },
   "outputs": [],
   "source": [
    "# get weather data from different file - from sqlite file (database in single file)\n",
    "# sqlite saves data as string and data is parsed when fetched\n",
    "import sqlite3"
   ]
  },
  {
   "cell_type": "code",
   "execution_count": 9,
   "metadata": {
    "collapsed": true
   },
   "outputs": [],
   "source": [
    "# in python we have spec for DB api. this allows pandas to work with connection objects which is same for any DB type.\n",
    "conn = sqlite3.connect(weather_pth)  # connect to ':memory' to get in memory database"
   ]
  },
  {
   "cell_type": "code",
   "execution_count": 10,
   "metadata": {},
   "outputs": [
    {
     "data": {
      "text/html": [
       "<div>\n",
       "<style>\n",
       "    .dataframe thead tr:only-child th {\n",
       "        text-align: right;\n",
       "    }\n",
       "\n",
       "    .dataframe thead th {\n",
       "        text-align: left;\n",
       "    }\n",
       "\n",
       "    .dataframe tbody tr th {\n",
       "        vertical-align: top;\n",
       "    }\n",
       "</style>\n",
       "<table border=\"1\" class=\"dataframe\">\n",
       "  <thead>\n",
       "    <tr style=\"text-align: right;\">\n",
       "      <th></th>\n",
       "      <th>index</th>\n",
       "      <th>STATION</th>\n",
       "      <th>PRCP</th>\n",
       "      <th>SNWD</th>\n",
       "      <th>SNOW</th>\n",
       "      <th>TMAX</th>\n",
       "      <th>TMIN</th>\n",
       "      <th>AWND</th>\n",
       "      <th>WDF2</th>\n",
       "      <th>WDF5</th>\n",
       "      <th>WSF2</th>\n",
       "      <th>WSF5</th>\n",
       "      <th>PGTM</th>\n",
       "      <th>FMTM</th>\n",
       "    </tr>\n",
       "    <tr>\n",
       "      <th>DATE</th>\n",
       "      <th></th>\n",
       "      <th></th>\n",
       "      <th></th>\n",
       "      <th></th>\n",
       "      <th></th>\n",
       "      <th></th>\n",
       "      <th></th>\n",
       "      <th></th>\n",
       "      <th></th>\n",
       "      <th></th>\n",
       "      <th></th>\n",
       "      <th></th>\n",
       "      <th></th>\n",
       "      <th></th>\n",
       "    </tr>\n",
       "  </thead>\n",
       "  <tbody>\n",
       "    <tr>\n",
       "      <th>2000-01-01</th>\n",
       "      <td>0</td>\n",
       "      <td>GHCND:USW00094728</td>\n",
       "      <td>0</td>\n",
       "      <td>-9999</td>\n",
       "      <td>0</td>\n",
       "      <td>100</td>\n",
       "      <td>11</td>\n",
       "      <td>26</td>\n",
       "      <td>250</td>\n",
       "      <td>230</td>\n",
       "      <td>72</td>\n",
       "      <td>94</td>\n",
       "      <td>1337</td>\n",
       "      <td>1337</td>\n",
       "    </tr>\n",
       "    <tr>\n",
       "      <th>2000-01-02</th>\n",
       "      <td>1</td>\n",
       "      <td>GHCND:USW00094728</td>\n",
       "      <td>0</td>\n",
       "      <td>-9999</td>\n",
       "      <td>0</td>\n",
       "      <td>156</td>\n",
       "      <td>61</td>\n",
       "      <td>21</td>\n",
       "      <td>260</td>\n",
       "      <td>260</td>\n",
       "      <td>72</td>\n",
       "      <td>112</td>\n",
       "      <td>2313</td>\n",
       "      <td>2314</td>\n",
       "    </tr>\n",
       "    <tr>\n",
       "      <th>2000-01-03</th>\n",
       "      <td>2</td>\n",
       "      <td>GHCND:USW00094728</td>\n",
       "      <td>0</td>\n",
       "      <td>-9999</td>\n",
       "      <td>0</td>\n",
       "      <td>178</td>\n",
       "      <td>106</td>\n",
       "      <td>30</td>\n",
       "      <td>260</td>\n",
       "      <td>250</td>\n",
       "      <td>67</td>\n",
       "      <td>94</td>\n",
       "      <td>320</td>\n",
       "      <td>321</td>\n",
       "    </tr>\n",
       "    <tr>\n",
       "      <th>2000-01-04</th>\n",
       "      <td>3</td>\n",
       "      <td>GHCND:USW00094728</td>\n",
       "      <td>178</td>\n",
       "      <td>-9999</td>\n",
       "      <td>0</td>\n",
       "      <td>156</td>\n",
       "      <td>78</td>\n",
       "      <td>35</td>\n",
       "      <td>320</td>\n",
       "      <td>350</td>\n",
       "      <td>67</td>\n",
       "      <td>107</td>\n",
       "      <td>1819</td>\n",
       "      <td>1840</td>\n",
       "    </tr>\n",
       "    <tr>\n",
       "      <th>2000-01-05</th>\n",
       "      <td>4</td>\n",
       "      <td>GHCND:USW00094728</td>\n",
       "      <td>0</td>\n",
       "      <td>-9999</td>\n",
       "      <td>0</td>\n",
       "      <td>83</td>\n",
       "      <td>-17</td>\n",
       "      <td>51</td>\n",
       "      <td>330</td>\n",
       "      <td>340</td>\n",
       "      <td>107</td>\n",
       "      <td>143</td>\n",
       "      <td>843</td>\n",
       "      <td>844</td>\n",
       "    </tr>\n",
       "  </tbody>\n",
       "</table>\n",
       "</div>"
      ],
      "text/plain": [
       "            index            STATION  PRCP  SNWD  SNOW  TMAX  TMIN  AWND  \\\n",
       "DATE                                                                       \n",
       "2000-01-01      0  GHCND:USW00094728     0 -9999     0   100    11    26   \n",
       "2000-01-02      1  GHCND:USW00094728     0 -9999     0   156    61    21   \n",
       "2000-01-03      2  GHCND:USW00094728     0 -9999     0   178   106    30   \n",
       "2000-01-04      3  GHCND:USW00094728   178 -9999     0   156    78    35   \n",
       "2000-01-05      4  GHCND:USW00094728     0 -9999     0    83   -17    51   \n",
       "\n",
       "            WDF2  WDF5  WSF2  WSF5  PGTM  FMTM  \n",
       "DATE                                            \n",
       "2000-01-01   250   230    72    94  1337  1337  \n",
       "2000-01-02   260   260    72   112  2313  2314  \n",
       "2000-01-03   260   250    67    94   320   321  \n",
       "2000-01-04   320   350    67   107  1819  1840  \n",
       "2000-01-05   330   340   107   143   843   844  "
      ]
     },
     "execution_count": 10,
     "metadata": {},
     "output_type": "execute_result"
    }
   ],
   "source": [
    "# you can also infer type of columns in connection object - see sqlite3 docs\n",
    "wdf = pd.read_sql('SELECT * FROM weather', conn, parse_dates=['DATE'], index_col='DATE')  # use SQL queries in database\n",
    "wdf.head()\n",
    "\n",
    "# note that TMAX does not make sense. 178C \\ 178F cannot be measures in central park. in weather.txt we have schema that notes that TMAX is in tenths of Celsius 178 = 17.8C "
   ]
  },
  {
   "cell_type": "code",
   "execution_count": 12,
   "metadata": {},
   "outputs": [
    {
     "data": {
      "text/html": [
       "<div>\n",
       "<style>\n",
       "    .dataframe thead tr:only-child th {\n",
       "        text-align: right;\n",
       "    }\n",
       "\n",
       "    .dataframe thead th {\n",
       "        text-align: left;\n",
       "    }\n",
       "\n",
       "    .dataframe tbody tr th {\n",
       "        vertical-align: top;\n",
       "    }\n",
       "</style>\n",
       "<table border=\"1\" class=\"dataframe\">\n",
       "  <thead>\n",
       "    <tr style=\"text-align: right;\">\n",
       "      <th></th>\n",
       "      <th>Open</th>\n",
       "      <th>High</th>\n",
       "      <th>Low</th>\n",
       "      <th>Close</th>\n",
       "      <th>Volume</th>\n",
       "      <th>Adj Close</th>\n",
       "      <th>index</th>\n",
       "      <th>STATION</th>\n",
       "      <th>PRCP</th>\n",
       "      <th>SNWD</th>\n",
       "      <th>SNOW</th>\n",
       "      <th>TMAX</th>\n",
       "      <th>TMIN</th>\n",
       "      <th>AWND</th>\n",
       "      <th>WDF2</th>\n",
       "      <th>WDF5</th>\n",
       "      <th>WSF2</th>\n",
       "      <th>WSF5</th>\n",
       "      <th>PGTM</th>\n",
       "      <th>FMTM</th>\n",
       "    </tr>\n",
       "    <tr>\n",
       "      <th>Date</th>\n",
       "      <th></th>\n",
       "      <th></th>\n",
       "      <th></th>\n",
       "      <th></th>\n",
       "      <th></th>\n",
       "      <th></th>\n",
       "      <th></th>\n",
       "      <th></th>\n",
       "      <th></th>\n",
       "      <th></th>\n",
       "      <th></th>\n",
       "      <th></th>\n",
       "      <th></th>\n",
       "      <th></th>\n",
       "      <th></th>\n",
       "      <th></th>\n",
       "      <th></th>\n",
       "      <th></th>\n",
       "      <th></th>\n",
       "      <th></th>\n",
       "    </tr>\n",
       "  </thead>\n",
       "  <tbody>\n",
       "    <tr>\n",
       "      <th>2016-06-17</th>\n",
       "      <td>96.620003</td>\n",
       "      <td>96.650002</td>\n",
       "      <td>95.300003</td>\n",
       "      <td>95.330002</td>\n",
       "      <td>60595000</td>\n",
       "      <td>95.330002</td>\n",
       "      <td>NaN</td>\n",
       "      <td>NaN</td>\n",
       "      <td>NaN</td>\n",
       "      <td>NaN</td>\n",
       "      <td>NaN</td>\n",
       "      <td>NaN</td>\n",
       "      <td>NaN</td>\n",
       "      <td>NaN</td>\n",
       "      <td>NaN</td>\n",
       "      <td>NaN</td>\n",
       "      <td>NaN</td>\n",
       "      <td>NaN</td>\n",
       "      <td>NaN</td>\n",
       "      <td>NaN</td>\n",
       "    </tr>\n",
       "    <tr>\n",
       "      <th>2016-06-16</th>\n",
       "      <td>96.449997</td>\n",
       "      <td>97.750000</td>\n",
       "      <td>96.070000</td>\n",
       "      <td>97.550003</td>\n",
       "      <td>31236300</td>\n",
       "      <td>97.550003</td>\n",
       "      <td>NaN</td>\n",
       "      <td>NaN</td>\n",
       "      <td>NaN</td>\n",
       "      <td>NaN</td>\n",
       "      <td>NaN</td>\n",
       "      <td>NaN</td>\n",
       "      <td>NaN</td>\n",
       "      <td>NaN</td>\n",
       "      <td>NaN</td>\n",
       "      <td>NaN</td>\n",
       "      <td>NaN</td>\n",
       "      <td>NaN</td>\n",
       "      <td>NaN</td>\n",
       "      <td>NaN</td>\n",
       "    </tr>\n",
       "    <tr>\n",
       "      <th>2016-06-15</th>\n",
       "      <td>97.820000</td>\n",
       "      <td>98.410004</td>\n",
       "      <td>97.029999</td>\n",
       "      <td>97.139999</td>\n",
       "      <td>29254300</td>\n",
       "      <td>97.139999</td>\n",
       "      <td>NaN</td>\n",
       "      <td>NaN</td>\n",
       "      <td>NaN</td>\n",
       "      <td>NaN</td>\n",
       "      <td>NaN</td>\n",
       "      <td>NaN</td>\n",
       "      <td>NaN</td>\n",
       "      <td>NaN</td>\n",
       "      <td>NaN</td>\n",
       "      <td>NaN</td>\n",
       "      <td>NaN</td>\n",
       "      <td>NaN</td>\n",
       "      <td>NaN</td>\n",
       "      <td>NaN</td>\n",
       "    </tr>\n",
       "    <tr>\n",
       "      <th>2016-06-14</th>\n",
       "      <td>97.320000</td>\n",
       "      <td>98.480003</td>\n",
       "      <td>96.750000</td>\n",
       "      <td>97.459999</td>\n",
       "      <td>31870300</td>\n",
       "      <td>97.459999</td>\n",
       "      <td>NaN</td>\n",
       "      <td>NaN</td>\n",
       "      <td>NaN</td>\n",
       "      <td>NaN</td>\n",
       "      <td>NaN</td>\n",
       "      <td>NaN</td>\n",
       "      <td>NaN</td>\n",
       "      <td>NaN</td>\n",
       "      <td>NaN</td>\n",
       "      <td>NaN</td>\n",
       "      <td>NaN</td>\n",
       "      <td>NaN</td>\n",
       "      <td>NaN</td>\n",
       "      <td>NaN</td>\n",
       "    </tr>\n",
       "    <tr>\n",
       "      <th>2016-06-13</th>\n",
       "      <td>98.690002</td>\n",
       "      <td>99.120003</td>\n",
       "      <td>97.099998</td>\n",
       "      <td>97.339996</td>\n",
       "      <td>37612900</td>\n",
       "      <td>97.339996</td>\n",
       "      <td>NaN</td>\n",
       "      <td>NaN</td>\n",
       "      <td>NaN</td>\n",
       "      <td>NaN</td>\n",
       "      <td>NaN</td>\n",
       "      <td>NaN</td>\n",
       "      <td>NaN</td>\n",
       "      <td>NaN</td>\n",
       "      <td>NaN</td>\n",
       "      <td>NaN</td>\n",
       "      <td>NaN</td>\n",
       "      <td>NaN</td>\n",
       "      <td>NaN</td>\n",
       "      <td>NaN</td>\n",
       "    </tr>\n",
       "  </tbody>\n",
       "</table>\n",
       "</div>"
      ],
      "text/plain": [
       "                 Open       High        Low      Close    Volume  Adj Close  \\\n",
       "Date                                                                          \n",
       "2016-06-17  96.620003  96.650002  95.300003  95.330002  60595000  95.330002   \n",
       "2016-06-16  96.449997  97.750000  96.070000  97.550003  31236300  97.550003   \n",
       "2016-06-15  97.820000  98.410004  97.029999  97.139999  29254300  97.139999   \n",
       "2016-06-14  97.320000  98.480003  96.750000  97.459999  31870300  97.459999   \n",
       "2016-06-13  98.690002  99.120003  97.099998  97.339996  37612900  97.339996   \n",
       "\n",
       "            index STATION  PRCP  SNWD  SNOW  TMAX  TMIN  AWND  WDF2  WDF5  \\\n",
       "Date                                                                        \n",
       "2016-06-17    NaN     NaN   NaN   NaN   NaN   NaN   NaN   NaN   NaN   NaN   \n",
       "2016-06-16    NaN     NaN   NaN   NaN   NaN   NaN   NaN   NaN   NaN   NaN   \n",
       "2016-06-15    NaN     NaN   NaN   NaN   NaN   NaN   NaN   NaN   NaN   NaN   \n",
       "2016-06-14    NaN     NaN   NaN   NaN   NaN   NaN   NaN   NaN   NaN   NaN   \n",
       "2016-06-13    NaN     NaN   NaN   NaN   NaN   NaN   NaN   NaN   NaN   NaN   \n",
       "\n",
       "            WSF2  WSF5 PGTM FMTM  \n",
       "Date                              \n",
       "2016-06-17   NaN   NaN  NaN  NaN  \n",
       "2016-06-16   NaN   NaN  NaN  NaN  \n",
       "2016-06-15   NaN   NaN  NaN  NaN  \n",
       "2016-06-14   NaN   NaN  NaN  NaN  \n",
       "2016-06-13   NaN   NaN  NaN  NaN  "
      ]
     },
     "execution_count": 12,
     "metadata": {},
     "output_type": "execute_result"
    }
   ],
   "source": [
    "fdf = df.join(wdf)  # add columns from wdf to columns in df, if not provided, we're left joininig by index\n",
    "# left \\ right joining - if row does not exist in OTHER (right\\left), do not add\n",
    "# outer join - if row does not exist, add with NaN\n",
    "# inner join - only join if row exists in both\n",
    "# see pd documentation of join \\ merge for details\n",
    "fdf.head()"
   ]
  },
  {
   "cell_type": "code",
   "execution_count": 13,
   "metadata": {},
   "outputs": [
    {
     "data": {
      "text/plain": [
       "5365"
      ]
     },
     "execution_count": 13,
     "metadata": {},
     "output_type": "execute_result"
    }
   ],
   "source": [
    "len(fdf[pd.isnull(fdf['SNOW'])])  # many nulls, as sampling rate of weather and stocks are different"
   ]
  },
  {
   "cell_type": "code",
   "execution_count": 14,
   "metadata": {},
   "outputs": [
    {
     "name": "stdout",
     "output_type": "stream",
     "text": [
      "#NaN after join: 5365\n"
     ]
    }
   ],
   "source": [
    "def numna(name):\n",
    "    print('#NaN after {}: {}'.format(name, len(fdf[pd.isnull(fdf['SNOW'])])))\n",
    "\n",
    "numna('join')"
   ]
  },
  {
   "cell_type": "code",
   "execution_count": 15,
   "metadata": {},
   "outputs": [
    {
     "name": "stdout",
     "output_type": "stream",
     "text": [
      "#NaN after interpolate: 424\n"
     ]
    }
   ],
   "source": [
    "fdf.interpolate(inplace=True)  # inplace True changes fdf and not only shows view\n",
    "numna('interpolate')  # edges cannot be filled by interpolation"
   ]
  },
  {
   "cell_type": "code",
   "execution_count": 16,
   "metadata": {},
   "outputs": [
    {
     "name": "stdout",
     "output_type": "stream",
     "text": [
      "#NaN after fill: 0\n"
     ]
    }
   ],
   "source": [
    "fdf.fillna(0, inplace=True)  # fill NaN with 0, only for numeric columns\n",
    "numna('fill')"
   ]
  },
  {
   "cell_type": "code",
   "execution_count": 18,
   "metadata": {},
   "outputs": [
    {
     "data": {
      "text/html": [
       "<div>\n",
       "<style>\n",
       "    .dataframe thead tr:only-child th {\n",
       "        text-align: right;\n",
       "    }\n",
       "\n",
       "    .dataframe thead th {\n",
       "        text-align: left;\n",
       "    }\n",
       "\n",
       "    .dataframe tbody tr th {\n",
       "        vertical-align: top;\n",
       "    }\n",
       "</style>\n",
       "<table border=\"1\" class=\"dataframe\">\n",
       "  <thead>\n",
       "    <tr style=\"text-align: right;\">\n",
       "      <th></th>\n",
       "      <th>SNOW</th>\n",
       "      <th>Close</th>\n",
       "    </tr>\n",
       "  </thead>\n",
       "  <tbody>\n",
       "    <tr>\n",
       "      <th>SNOW</th>\n",
       "      <td>1.000000</td>\n",
       "      <td>0.063585</td>\n",
       "    </tr>\n",
       "    <tr>\n",
       "      <th>Close</th>\n",
       "      <td>0.063585</td>\n",
       "      <td>1.000000</td>\n",
       "    </tr>\n",
       "  </tbody>\n",
       "</table>\n",
       "</div>"
      ],
      "text/plain": [
       "           SNOW     Close\n",
       "SNOW   1.000000  0.063585\n",
       "Close  0.063585  1.000000"
      ]
     },
     "execution_count": 18,
     "metadata": {},
     "output_type": "execute_result"
    }
   ],
   "source": [
    "fdf[['SNOW', 'Close']].corr()  # no correlation between snow and apple stock price"
   ]
  },
  {
   "cell_type": "code",
   "execution_count": null,
   "metadata": {
    "collapsed": true
   },
   "outputs": [],
   "source": [
    "# python for data analysis 2nd edition - book, good for pandas\n",
    "# python data science handbook (VanderPlas) - free online!"
   ]
  }
 ],
 "metadata": {
  "kernelspec": {
   "display_name": "Python 3",
   "language": "python",
   "name": "python3"
  },
  "language_info": {
   "codemirror_mode": {
    "name": "ipython",
    "version": 3
   },
   "file_extension": ".py",
   "mimetype": "text/x-python",
   "name": "python",
   "nbconvert_exporter": "python",
   "pygments_lexer": "ipython3",
   "version": "3.6.1"
  }
 },
 "nbformat": 4,
 "nbformat_minor": 2
}
