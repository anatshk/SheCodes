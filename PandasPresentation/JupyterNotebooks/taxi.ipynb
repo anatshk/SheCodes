{
 "cells": [
  {
   "cell_type": "code",
   "execution_count": 1,
   "metadata": {
    "collapsed": true
   },
   "outputs": [],
   "source": [
    "pth = r\"C:\\Users\\anat.shkolyar\\PycharmProjects\\pandas_workshop\\data\\taxi.csv.bz2\"  # slice of NY taxi DB (full avilable on Google, Amazon)"
   ]
  },
  {
   "cell_type": "code",
   "execution_count": 2,
   "metadata": {
    "collapsed": true
   },
   "outputs": [],
   "source": [
    "%matplotlib inline\n",
    "import pandas as pd"
   ]
  },
  {
   "cell_type": "code",
   "execution_count": 8,
   "metadata": {},
   "outputs": [
    {
     "name": "stdout",
     "output_type": "stream",
     "text": [
      "size = 2.74mb\n"
     ]
    }
   ],
   "source": [
    "# see file size\n",
    "from os.path import getsize\n",
    "\n",
    "print('size = {:.2f}mb'.format(getsize(pth)/ (1<<20)))"
   ]
  },
  {
   "cell_type": "code",
   "execution_count": 11,
   "metadata": {},
   "outputs": [
    {
     "name": "stdout",
     "output_type": "stream",
     "text": [
      " Volume in drive C has no label.\n",
      " Volume Serial Number is DA33-4F94\n",
      "\n",
      " Directory of C:\\Users\\anat.shkolyar\\PycharmProjects\\pandas_workshop\\data\n",
      "\n",
      "21-Oct-17  12:27 PM         2,874,015 taxi.csv.bz2\n",
      "               1 File(s)      2,874,015 bytes\n",
      "               0 Dir(s)  173,994,704,896 bytes free\n"
     ]
    }
   ],
   "source": [
    "# jupyter extension (magic commands)\n",
    "!dir $pth"
   ]
  },
  {
   "cell_type": "code",
   "execution_count": 17,
   "metadata": {},
   "outputs": [
    {
     "data": {
      "text/plain": [
       "100000"
      ]
     },
     "execution_count": 17,
     "metadata": {},
     "output_type": "execute_result"
    }
   ],
   "source": [
    "# load file (note that it takes time. * appears near to [In] and top right circle fills)\n",
    "df = pd.read_csv(pth)\n",
    "len(df)"
   ]
  },
  {
   "cell_type": "code",
   "execution_count": 18,
   "metadata": {},
   "outputs": [
    {
     "data": {
      "text/plain": [
       "VendorID                 2015-03-04 15:42:30\n",
       "lpep_pickup_datetime                       N\n",
       "Lpep_dropoff_datetime                      1\n",
       "Store_and_fwd_flag                  -73.9922\n",
       "RateCodeID                           40.6901\n",
       "Pickup_longitude                    -73.9997\n",
       "Pickup_latitude                       40.685\n",
       "Dropoff_longitude                          2\n",
       "Dropoff_latitude                        0.71\n",
       "Passenger_count                          4.5\n",
       "Trip_distance                              0\n",
       "Fare_amount                              0.5\n",
       "Extra                                      0\n",
       "MTA_tax                                    0\n",
       "Tip_amount                               NaN\n",
       "Tolls_amount                             0.3\n",
       "Ehail_fee                                5.3\n",
       "improvement_surcharge                      2\n",
       "Total_amount                               1\n",
       "Payment_type                             NaN\n",
       "Trip_type                                NaN\n",
       "Name: (2, 2015-03-04 15:39:16), dtype: object"
      ]
     },
     "execution_count": 18,
     "metadata": {},
     "output_type": "execute_result"
    }
   ],
   "source": [
    "# look at data - the csv is problematic, see VendorId, Name values (etc)\n",
    "df.iloc[0]"
   ]
  },
  {
   "cell_type": "code",
   "execution_count": 22,
   "metadata": {},
   "outputs": [
    {
     "name": "stdout",
     "output_type": "stream",
     "text": [
      "VendorID,lpep_pickup_datetime,Lpep_dropoff_datetime,Store_and_fwd_flag,RateCodeID,Pickup_longitude,Pickup_latitude,Dropoff_longitude,Dropoff_latitude,Passenger_count,Trip_distance,Fare_amount,Extra,MTA_tax,Tip_amount,Tolls_amount,Ehail_fee,improvement_surcharge,Total_amount,Payment_type,Trip_type \r\n",
      "\n",
      "2,2015-03-04 15:39:16,2015-03-04 15:42:30,N,1,-73.992240905761719,40.690120697021484,-73.999664306640625,40.684993743896484,2,.71,4.5,0,0.5,0,0,,0.3,5.3,2,1,,\r\n",
      "\n"
     ]
    }
   ],
   "source": [
    "# look at file content\n",
    "import bz2\n",
    "\n",
    "with bz2.BZ2File(pth) as fp:\n",
    "    header = fp.readline()\n",
    "    data = fp.readline()\n",
    "    \n",
    "# Python 3 only:\n",
    "header = header.decode('utf-8')\n",
    "data = data.decode('utf-8')\n",
    "    \n",
    "print(header)\n",
    "\n",
    "print(data)"
   ]
  },
  {
   "cell_type": "code",
   "execution_count": 26,
   "metadata": {},
   "outputs": [
    {
     "data": {
      "text/plain": [
       "(21, 23)"
      ]
     },
     "execution_count": 26,
     "metadata": {},
     "output_type": "execute_result"
    }
   ],
   "source": [
    "# number of columns and values do not match\n",
    "columns = header.split(',')\n",
    "values = data.split(',')\n",
    "\n",
    "len(columns), len(values)"
   ]
  },
  {
   "cell_type": "code",
   "execution_count": 28,
   "metadata": {},
   "outputs": [
    {
     "data": {
      "text/plain": [
       "VendorID                                   2\n",
       "lpep_pickup_datetime     2015-03-04 15:39:16\n",
       "Lpep_dropoff_datetime    2015-03-04 15:42:30\n",
       "Store_and_fwd_flag                         N\n",
       "RateCodeID                                 1\n",
       "Pickup_longitude                    -73.9922\n",
       "Pickup_latitude                      40.6901\n",
       "Dropoff_longitude                   -73.9997\n",
       "Dropoff_latitude                      40.685\n",
       "Passenger_count                            2\n",
       "Trip_distance                           0.71\n",
       "Fare_amount                              4.5\n",
       "Extra                                      0\n",
       "MTA_tax                                  0.5\n",
       "Tip_amount                                 0\n",
       "Tolls_amount                               0\n",
       "Ehail_fee                                NaN\n",
       "improvement_surcharge                    0.3\n",
       "Total_amount                             5.3\n",
       "Payment_type                               2\n",
       "Trip_type                                  1\n",
       "Name: 0, dtype: object"
      ]
     },
     "execution_count": 28,
     "metadata": {},
     "output_type": "execute_result"
    }
   ],
   "source": [
    "# only use first 21 columns - the values make more sense\n",
    "import numpy as np\n",
    "\n",
    "df = pd.read_csv(pth, usecols=np.arange(21))\n",
    "df.iloc[0]"
   ]
  },
  {
   "cell_type": "code",
   "execution_count": 29,
   "metadata": {},
   "outputs": [
    {
     "data": {
      "text/plain": [
       "VendorID                   int64\n",
       "lpep_pickup_datetime      object\n",
       "Lpep_dropoff_datetime     object\n",
       "Store_and_fwd_flag        object\n",
       "RateCodeID                 int64\n",
       "Pickup_longitude         float64\n",
       "Pickup_latitude          float64\n",
       "Dropoff_longitude        float64\n",
       "Dropoff_latitude         float64\n",
       "Passenger_count            int64\n",
       "Trip_distance            float64\n",
       "Fare_amount              float64\n",
       "Extra                    float64\n",
       "MTA_tax                  float64\n",
       "Tip_amount               float64\n",
       "Tolls_amount             float64\n",
       "Ehail_fee                float64\n",
       "improvement_surcharge    float64\n",
       "Total_amount             float64\n",
       "Payment_type               int64\n",
       "Trip_type                  int64\n",
       "dtype: object"
      ]
     },
     "execution_count": 29,
     "metadata": {},
     "output_type": "execute_result"
    }
   ],
   "source": [
    "df.dtypes  # check column types"
   ]
  },
  {
   "cell_type": "code",
   "execution_count": 36,
   "metadata": {},
   "outputs": [
    {
     "data": {
      "text/plain": [
       "VendorID                          int64\n",
       "lpep_pickup_datetime     datetime64[ns]\n",
       "Lpep_dropoff_datetime    datetime64[ns]\n",
       "Store_and_fwd_flag               object\n",
       "RateCodeID                        int64\n",
       "Pickup_longitude                float64\n",
       "Pickup_latitude                 float64\n",
       "Dropoff_longitude               float64\n",
       "Dropoff_latitude                float64\n",
       "Passenger_count                   int64\n",
       "Trip_distance                   float64\n",
       "Fare_amount                     float64\n",
       "Extra                           float64\n",
       "MTA_tax                         float64\n",
       "Tip_amount                      float64\n",
       "Tolls_amount                    float64\n",
       "Ehail_fee                       float64\n",
       "improvement_surcharge           float64\n",
       "Total_amount                    float64\n",
       "Payment_type                      int64\n",
       "Trip_type                         int64\n",
       "dtype: object"
      ]
     },
     "execution_count": 36,
     "metadata": {},
     "output_type": "execute_result"
    }
   ],
   "source": [
    "# parse times\n",
    "df = pd.read_csv(pth, usecols=np.arange(21), parse_dates=['lpep_pickup_datetime', 'Lpep_dropoff_datetime'])\n",
    "df.columns = [col.strip() for col in df.columns]  # remove spaces\n",
    "df.dtypes"
   ]
  },
  {
   "cell_type": "markdown",
   "metadata": {},
   "source": [
    "# Header of Markdown cell\n",
    "\n",
    "* item 1\n",
    "* item 2\n",
    "\n",
    "[google](https://google.com)\n",
    "\n",
    "$ sinc = \\frac{sin(x)}{x} $\n",
    "\n",
    "supports latex, free text, use jupyter to create a report in html and send the file\n"
   ]
  },
  {
   "cell_type": "markdown",
   "metadata": {},
   "source": [
    "# Question: How many rides per VendorID?"
   ]
  },
  {
   "cell_type": "code",
   "execution_count": 38,
   "metadata": {},
   "outputs": [
    {
     "data": {
      "text/plain": [
       "VendorID\n",
       "1    22054\n",
       "2    77946\n",
       "Name: Trip_type, dtype: int64"
      ]
     },
     "execution_count": 38,
     "metadata": {},
     "output_type": "execute_result"
    }
   ],
   "source": [
    "# numpy and pandas do not copy variables, but provide views on same variable\n",
    "df.groupby('VendorID').count()['Trip_type']  # select a single column because the count returns sae value in all columns"
   ]
  },
  {
   "cell_type": "code",
   "execution_count": 39,
   "metadata": {},
   "outputs": [
    {
     "data": {
      "text/plain": [
       "VendorID\n",
       "1    22054\n",
       "2    77946\n",
       "Name: Trip_type, dtype: int64"
      ]
     },
     "execution_count": 39,
     "metadata": {},
     "output_type": "execute_result"
    }
   ],
   "source": [
    "df.groupby('VendorID')['Trip_type'].count()  # colunm selection before or after count"
   ]
  },
  {
   "cell_type": "code",
   "execution_count": 40,
   "metadata": {},
   "outputs": [
    {
     "data": {
      "text/plain": [
       "2    77946\n",
       "1    22054\n",
       "Name: VendorID, dtype: int64"
      ]
     },
     "execution_count": 40,
     "metadata": {},
     "output_type": "execute_result"
    }
   ],
   "source": [
    "df['VendorID'].value_counts()  # pandas method to calculate the same without groupby - works on Series"
   ]
  },
  {
   "cell_type": "code",
   "execution_count": 41,
   "metadata": {},
   "outputs": [
    {
     "data": {
      "text/plain": [
       "0        (-359.945, 58.71]\n",
       "1        (-359.945, 58.71]\n",
       "2        (-359.945, 58.71]\n",
       "3        (-359.945, 58.71]\n",
       "4        (-359.945, 58.71]\n",
       "5        (-359.945, 58.71]\n",
       "6        (-359.945, 58.71]\n",
       "7        (-359.945, 58.71]\n",
       "8        (-359.945, 58.71]\n",
       "9        (-359.945, 58.71]\n",
       "10       (-359.945, 58.71]\n",
       "11       (-359.945, 58.71]\n",
       "12       (-359.945, 58.71]\n",
       "13       (-359.945, 58.71]\n",
       "14       (-359.945, 58.71]\n",
       "15       (-359.945, 58.71]\n",
       "16       (-359.945, 58.71]\n",
       "17       (-359.945, 58.71]\n",
       "18       (-359.945, 58.71]\n",
       "19       (-359.945, 58.71]\n",
       "20       (-359.945, 58.71]\n",
       "21       (-359.945, 58.71]\n",
       "22       (-359.945, 58.71]\n",
       "23       (-359.945, 58.71]\n",
       "24       (-359.945, 58.71]\n",
       "25       (-359.945, 58.71]\n",
       "26       (-359.945, 58.71]\n",
       "27       (-359.945, 58.71]\n",
       "28       (-359.945, 58.71]\n",
       "29       (-359.945, 58.71]\n",
       "               ...        \n",
       "99970    (-359.945, 58.71]\n",
       "99971    (-359.945, 58.71]\n",
       "99972    (-359.945, 58.71]\n",
       "99973    (-359.945, 58.71]\n",
       "99974    (-359.945, 58.71]\n",
       "99975    (-359.945, 58.71]\n",
       "99976    (-359.945, 58.71]\n",
       "99977    (-359.945, 58.71]\n",
       "99978    (-359.945, 58.71]\n",
       "99979    (-359.945, 58.71]\n",
       "99980    (-359.945, 58.71]\n",
       "99981    (-359.945, 58.71]\n",
       "99982    (-359.945, 58.71]\n",
       "99983    (-359.945, 58.71]\n",
       "99984    (-359.945, 58.71]\n",
       "99985    (-359.945, 58.71]\n",
       "99986    (-359.945, 58.71]\n",
       "99987    (-359.945, 58.71]\n",
       "99988    (-359.945, 58.71]\n",
       "99989    (-359.945, 58.71]\n",
       "99990    (-359.945, 58.71]\n",
       "99991    (-359.945, 58.71]\n",
       "99992    (-359.945, 58.71]\n",
       "99993    (-359.945, 58.71]\n",
       "99994    (-359.945, 58.71]\n",
       "99995    (-359.945, 58.71]\n",
       "99996    (-359.945, 58.71]\n",
       "99997    (-359.945, 58.71]\n",
       "99998    (-359.945, 58.71]\n",
       "99999    (-359.945, 58.71]\n",
       "Name: Total_amount, Length: 100000, dtype: category\n",
       "Categories (10, interval[float64]): [(-359.945, 58.71] < (58.71, 473.22] < (473.22, 887.73] < (887.73, 1302.24] ... (2131.26, 2545.77] < (2545.77, 2960.28] < (2960.28, 3374.79] < (3374.79, 3789.3]]"
      ]
     },
     "execution_count": 41,
     "metadata": {},
     "output_type": "execute_result"
    }
   ],
   "source": [
    "# pd.cut - for binning \n",
    "pd.cut(df['Total_amount'], 10)  # for each row shows the bin it belongs to. note bin list at the end of output."
   ]
  },
  {
   "cell_type": "code",
   "execution_count": 42,
   "metadata": {},
   "outputs": [
    {
     "data": {
      "text/plain": [
       "Total_amount\n",
       "(-359.945, 58.71]     99269\n",
       "(58.71, 473.22]         719\n",
       "(473.22, 887.73]         10\n",
       "(887.73, 1302.24]         0\n",
       "(1302.24, 1716.75]        0\n",
       "(1716.75, 2131.26]        1\n",
       "(2131.26, 2545.77]        0\n",
       "(2545.77, 2960.28]        0\n",
       "(2960.28, 3374.79]        0\n",
       "(3374.79, 3789.3]         1\n",
       "Name: Trip_type, dtype: int64"
      ]
     },
     "execution_count": 42,
     "metadata": {},
     "output_type": "execute_result"
    }
   ],
   "source": [
    "# histogram\n",
    "df.groupby(pd.cut(df['Total_amount'], 10))['Trip_type'].count()  # select any column for counting"
   ]
  },
  {
   "cell_type": "code",
   "execution_count": 43,
   "metadata": {},
   "outputs": [
    {
     "data": {
      "text/plain": [
       "(-359.945, 58.71]     99269\n",
       "(58.71, 473.22]         719\n",
       "(473.22, 887.73]         10\n",
       "(3374.79, 3789.3]         1\n",
       "(1716.75, 2131.26]        1\n",
       "(2960.28, 3374.79]        0\n",
       "(2545.77, 2960.28]        0\n",
       "(2131.26, 2545.77]        0\n",
       "(1302.24, 1716.75]        0\n",
       "(887.73, 1302.24]         0\n",
       "Name: Total_amount, dtype: int64"
      ]
     },
     "execution_count": 43,
     "metadata": {},
     "output_type": "execute_result"
    }
   ],
   "source": [
    "pd.cut(df['Total_amount'], 10).value_counts()  # using value counts"
   ]
  },
  {
   "cell_type": "markdown",
   "metadata": {},
   "source": [
    "esc + p shows jupyter command pallette\n",
    "esc + any letter from pallette perform that action\n"
   ]
  },
  {
   "cell_type": "markdown",
   "metadata": {},
   "source": [
    "\n",
    "# Median Number of Rides in Hour of Day\n"
   ]
  },
  {
   "cell_type": "code",
   "execution_count": 44,
   "metadata": {},
   "outputs": [
    {
     "data": {
      "text/html": [
       "<div>\n",
       "<style>\n",
       "    .dataframe thead tr:only-child th {\n",
       "        text-align: right;\n",
       "    }\n",
       "\n",
       "    .dataframe thead th {\n",
       "        text-align: left;\n",
       "    }\n",
       "\n",
       "    .dataframe tbody tr th {\n",
       "        vertical-align: top;\n",
       "    }\n",
       "</style>\n",
       "<table border=\"1\" class=\"dataframe\">\n",
       "  <thead>\n",
       "    <tr style=\"text-align: right;\">\n",
       "      <th></th>\n",
       "      <th>VendorID</th>\n",
       "      <th>lpep_pickup_datetime</th>\n",
       "      <th>Lpep_dropoff_datetime</th>\n",
       "      <th>Store_and_fwd_flag</th>\n",
       "      <th>RateCodeID</th>\n",
       "      <th>Pickup_longitude</th>\n",
       "      <th>Pickup_latitude</th>\n",
       "      <th>Dropoff_longitude</th>\n",
       "      <th>Dropoff_latitude</th>\n",
       "      <th>Passenger_count</th>\n",
       "      <th>...</th>\n",
       "      <th>Fare_amount</th>\n",
       "      <th>Extra</th>\n",
       "      <th>MTA_tax</th>\n",
       "      <th>Tip_amount</th>\n",
       "      <th>Tolls_amount</th>\n",
       "      <th>Ehail_fee</th>\n",
       "      <th>improvement_surcharge</th>\n",
       "      <th>Total_amount</th>\n",
       "      <th>Payment_type</th>\n",
       "      <th>Trip_type</th>\n",
       "    </tr>\n",
       "  </thead>\n",
       "  <tbody>\n",
       "    <tr>\n",
       "      <th>0</th>\n",
       "      <td>2</td>\n",
       "      <td>2015-03-04 15:39:16</td>\n",
       "      <td>2015-03-04 15:42:30</td>\n",
       "      <td>N</td>\n",
       "      <td>1</td>\n",
       "      <td>-73.992241</td>\n",
       "      <td>40.690121</td>\n",
       "      <td>-73.999664</td>\n",
       "      <td>40.684994</td>\n",
       "      <td>2</td>\n",
       "      <td>...</td>\n",
       "      <td>4.5</td>\n",
       "      <td>0.0</td>\n",
       "      <td>0.5</td>\n",
       "      <td>0.00</td>\n",
       "      <td>0.0</td>\n",
       "      <td>NaN</td>\n",
       "      <td>0.3</td>\n",
       "      <td>5.30</td>\n",
       "      <td>2</td>\n",
       "      <td>1</td>\n",
       "    </tr>\n",
       "    <tr>\n",
       "      <th>1</th>\n",
       "      <td>2</td>\n",
       "      <td>2015-03-22 17:36:49</td>\n",
       "      <td>2015-03-22 17:45:39</td>\n",
       "      <td>N</td>\n",
       "      <td>5</td>\n",
       "      <td>-73.930038</td>\n",
       "      <td>40.819576</td>\n",
       "      <td>-73.907173</td>\n",
       "      <td>40.811306</td>\n",
       "      <td>2</td>\n",
       "      <td>...</td>\n",
       "      <td>12.0</td>\n",
       "      <td>0.0</td>\n",
       "      <td>0.0</td>\n",
       "      <td>0.00</td>\n",
       "      <td>0.0</td>\n",
       "      <td>NaN</td>\n",
       "      <td>0.0</td>\n",
       "      <td>12.00</td>\n",
       "      <td>2</td>\n",
       "      <td>2</td>\n",
       "    </tr>\n",
       "    <tr>\n",
       "      <th>2</th>\n",
       "      <td>2</td>\n",
       "      <td>2015-03-25 22:08:45</td>\n",
       "      <td>2015-03-25 22:53:29</td>\n",
       "      <td>N</td>\n",
       "      <td>1</td>\n",
       "      <td>-73.961082</td>\n",
       "      <td>40.807022</td>\n",
       "      <td>-73.984642</td>\n",
       "      <td>40.663147</td>\n",
       "      <td>1</td>\n",
       "      <td>...</td>\n",
       "      <td>45.0</td>\n",
       "      <td>0.5</td>\n",
       "      <td>0.5</td>\n",
       "      <td>9.26</td>\n",
       "      <td>0.0</td>\n",
       "      <td>NaN</td>\n",
       "      <td>0.3</td>\n",
       "      <td>55.56</td>\n",
       "      <td>1</td>\n",
       "      <td>1</td>\n",
       "    </tr>\n",
       "    <tr>\n",
       "      <th>3</th>\n",
       "      <td>2</td>\n",
       "      <td>2015-03-16 13:45:20</td>\n",
       "      <td>2015-03-16 13:52:04</td>\n",
       "      <td>N</td>\n",
       "      <td>1</td>\n",
       "      <td>-73.913200</td>\n",
       "      <td>40.777962</td>\n",
       "      <td>-73.926994</td>\n",
       "      <td>40.772743</td>\n",
       "      <td>2</td>\n",
       "      <td>...</td>\n",
       "      <td>6.5</td>\n",
       "      <td>0.0</td>\n",
       "      <td>0.5</td>\n",
       "      <td>0.00</td>\n",
       "      <td>0.0</td>\n",
       "      <td>NaN</td>\n",
       "      <td>0.3</td>\n",
       "      <td>7.30</td>\n",
       "      <td>2</td>\n",
       "      <td>1</td>\n",
       "    </tr>\n",
       "    <tr>\n",
       "      <th>4</th>\n",
       "      <td>2</td>\n",
       "      <td>2015-03-19 18:53:50</td>\n",
       "      <td>2015-03-19 18:59:04</td>\n",
       "      <td>N</td>\n",
       "      <td>1</td>\n",
       "      <td>-73.925888</td>\n",
       "      <td>40.827602</td>\n",
       "      <td>-73.916351</td>\n",
       "      <td>40.824966</td>\n",
       "      <td>1</td>\n",
       "      <td>...</td>\n",
       "      <td>5.5</td>\n",
       "      <td>1.0</td>\n",
       "      <td>0.5</td>\n",
       "      <td>0.00</td>\n",
       "      <td>0.0</td>\n",
       "      <td>NaN</td>\n",
       "      <td>0.3</td>\n",
       "      <td>7.30</td>\n",
       "      <td>2</td>\n",
       "      <td>1</td>\n",
       "    </tr>\n",
       "  </tbody>\n",
       "</table>\n",
       "<p>5 rows × 21 columns</p>\n",
       "</div>"
      ],
      "text/plain": [
       "   VendorID lpep_pickup_datetime Lpep_dropoff_datetime Store_and_fwd_flag  \\\n",
       "0         2  2015-03-04 15:39:16   2015-03-04 15:42:30                  N   \n",
       "1         2  2015-03-22 17:36:49   2015-03-22 17:45:39                  N   \n",
       "2         2  2015-03-25 22:08:45   2015-03-25 22:53:29                  N   \n",
       "3         2  2015-03-16 13:45:20   2015-03-16 13:52:04                  N   \n",
       "4         2  2015-03-19 18:53:50   2015-03-19 18:59:04                  N   \n",
       "\n",
       "   RateCodeID  Pickup_longitude  Pickup_latitude  Dropoff_longitude  \\\n",
       "0           1        -73.992241        40.690121         -73.999664   \n",
       "1           5        -73.930038        40.819576         -73.907173   \n",
       "2           1        -73.961082        40.807022         -73.984642   \n",
       "3           1        -73.913200        40.777962         -73.926994   \n",
       "4           1        -73.925888        40.827602         -73.916351   \n",
       "\n",
       "   Dropoff_latitude  Passenger_count    ...      Fare_amount  Extra  MTA_tax  \\\n",
       "0         40.684994                2    ...              4.5    0.0      0.5   \n",
       "1         40.811306                2    ...             12.0    0.0      0.0   \n",
       "2         40.663147                1    ...             45.0    0.5      0.5   \n",
       "3         40.772743                2    ...              6.5    0.0      0.5   \n",
       "4         40.824966                1    ...              5.5    1.0      0.5   \n",
       "\n",
       "   Tip_amount  Tolls_amount  Ehail_fee  improvement_surcharge  Total_amount  \\\n",
       "0        0.00           0.0        NaN                    0.3          5.30   \n",
       "1        0.00           0.0        NaN                    0.0         12.00   \n",
       "2        9.26           0.0        NaN                    0.3         55.56   \n",
       "3        0.00           0.0        NaN                    0.3          7.30   \n",
       "4        0.00           0.0        NaN                    0.3          7.30   \n",
       "\n",
       "   Payment_type  Trip_type  \n",
       "0             2          1  \n",
       "1             2          2  \n",
       "2             1          1  \n",
       "3             2          1  \n",
       "4             2          1  \n",
       "\n",
       "[5 rows x 21 columns]"
      ]
     },
     "execution_count": 44,
     "metadata": {},
     "output_type": "execute_result"
    }
   ],
   "source": [
    "df.head()\n"
   ]
  },
  {
   "cell_type": "code",
   "execution_count": 50,
   "metadata": {},
   "outputs": [
    {
     "data": {
      "text/html": [
       "<div>\n",
       "<style>\n",
       "    .dataframe thead tr:only-child th {\n",
       "        text-align: right;\n",
       "    }\n",
       "\n",
       "    .dataframe thead th {\n",
       "        text-align: left;\n",
       "    }\n",
       "\n",
       "    .dataframe tbody tr th {\n",
       "        vertical-align: top;\n",
       "    }\n",
       "</style>\n",
       "<table border=\"1\" class=\"dataframe\">\n",
       "  <thead>\n",
       "    <tr style=\"text-align: right;\">\n",
       "      <th></th>\n",
       "      <th>weekday</th>\n",
       "      <th>hour</th>\n",
       "    </tr>\n",
       "  </thead>\n",
       "  <tbody>\n",
       "    <tr>\n",
       "      <th>0</th>\n",
       "      <td>2</td>\n",
       "      <td>15</td>\n",
       "    </tr>\n",
       "    <tr>\n",
       "      <th>1</th>\n",
       "      <td>6</td>\n",
       "      <td>17</td>\n",
       "    </tr>\n",
       "    <tr>\n",
       "      <th>2</th>\n",
       "      <td>2</td>\n",
       "      <td>22</td>\n",
       "    </tr>\n",
       "    <tr>\n",
       "      <th>3</th>\n",
       "      <td>0</td>\n",
       "      <td>13</td>\n",
       "    </tr>\n",
       "    <tr>\n",
       "      <th>4</th>\n",
       "      <td>3</td>\n",
       "      <td>18</td>\n",
       "    </tr>\n",
       "  </tbody>\n",
       "</table>\n",
       "</div>"
      ],
      "text/plain": [
       "   weekday  hour\n",
       "0        2    15\n",
       "1        6    17\n",
       "2        2    22\n",
       "3        0    13\n",
       "4        3    18"
      ]
     },
     "execution_count": 50,
     "metadata": {},
     "output_type": "execute_result"
    }
   ],
   "source": [
    "# assume pickup time is the ride time\n",
    "\n",
    "# divide info into days\n",
    "# in each day, count rides per hour\n",
    "# median on days\n",
    "\n",
    "# create new columns of day and hour\n",
    "df['weekday'] = df['lpep_pickup_datetime'].dt.weekday\n",
    "df['hour'] = df['lpep_pickup_datetime'].dt.hour\n",
    "\n",
    "df[['weekday', 'hour']].head()"
   ]
  },
  {
   "cell_type": "code",
   "execution_count": 61,
   "metadata": {},
   "outputs": [
    {
     "data": {
      "text/plain": [
       "weekday  hour\n",
       "0        0       435\n",
       "         1       302\n",
       "         2       189\n",
       "         3       132\n",
       "         4       155\n",
       "Name: VendorID, dtype: int64"
      ]
     },
     "execution_count": 61,
     "metadata": {},
     "output_type": "execute_result"
    }
   ],
   "source": [
    "# group by day and hour\n",
    "\n",
    "rides_per_day_hour = df.groupby(['weekday', 'hour'])['VendorID'].count()\n",
    "rides_per_day_hour.head()"
   ]
  },
  {
   "cell_type": "code",
   "execution_count": 63,
   "metadata": {},
   "outputs": [
    {
     "data": {
      "text/html": [
       "<div>\n",
       "<style>\n",
       "    .dataframe thead tr:only-child th {\n",
       "        text-align: right;\n",
       "    }\n",
       "\n",
       "    .dataframe thead th {\n",
       "        text-align: left;\n",
       "    }\n",
       "\n",
       "    .dataframe tbody tr th {\n",
       "        vertical-align: top;\n",
       "    }\n",
       "</style>\n",
       "<table border=\"1\" class=\"dataframe\">\n",
       "  <thead>\n",
       "    <tr style=\"text-align: right;\">\n",
       "      <th>hour</th>\n",
       "      <th>0</th>\n",
       "      <th>1</th>\n",
       "      <th>2</th>\n",
       "      <th>3</th>\n",
       "      <th>4</th>\n",
       "      <th>5</th>\n",
       "      <th>6</th>\n",
       "      <th>7</th>\n",
       "      <th>8</th>\n",
       "      <th>9</th>\n",
       "      <th>...</th>\n",
       "      <th>14</th>\n",
       "      <th>15</th>\n",
       "      <th>16</th>\n",
       "      <th>17</th>\n",
       "      <th>18</th>\n",
       "      <th>19</th>\n",
       "      <th>20</th>\n",
       "      <th>21</th>\n",
       "      <th>22</th>\n",
       "      <th>23</th>\n",
       "    </tr>\n",
       "    <tr>\n",
       "      <th>weekday</th>\n",
       "      <th></th>\n",
       "      <th></th>\n",
       "      <th></th>\n",
       "      <th></th>\n",
       "      <th></th>\n",
       "      <th></th>\n",
       "      <th></th>\n",
       "      <th></th>\n",
       "      <th></th>\n",
       "      <th></th>\n",
       "      <th></th>\n",
       "      <th></th>\n",
       "      <th></th>\n",
       "      <th></th>\n",
       "      <th></th>\n",
       "      <th></th>\n",
       "      <th></th>\n",
       "      <th></th>\n",
       "      <th></th>\n",
       "      <th></th>\n",
       "      <th></th>\n",
       "    </tr>\n",
       "  </thead>\n",
       "  <tbody>\n",
       "    <tr>\n",
       "      <th>0</th>\n",
       "      <td>435</td>\n",
       "      <td>302</td>\n",
       "      <td>189</td>\n",
       "      <td>132</td>\n",
       "      <td>155</td>\n",
       "      <td>128</td>\n",
       "      <td>231</td>\n",
       "      <td>532</td>\n",
       "      <td>794</td>\n",
       "      <td>702</td>\n",
       "      <td>...</td>\n",
       "      <td>624</td>\n",
       "      <td>662</td>\n",
       "      <td>698</td>\n",
       "      <td>837</td>\n",
       "      <td>913</td>\n",
       "      <td>911</td>\n",
       "      <td>799</td>\n",
       "      <td>768</td>\n",
       "      <td>633</td>\n",
       "      <td>504</td>\n",
       "    </tr>\n",
       "    <tr>\n",
       "      <th>1</th>\n",
       "      <td>372</td>\n",
       "      <td>243</td>\n",
       "      <td>155</td>\n",
       "      <td>104</td>\n",
       "      <td>117</td>\n",
       "      <td>112</td>\n",
       "      <td>210</td>\n",
       "      <td>468</td>\n",
       "      <td>785</td>\n",
       "      <td>762</td>\n",
       "      <td>...</td>\n",
       "      <td>724</td>\n",
       "      <td>737</td>\n",
       "      <td>846</td>\n",
       "      <td>924</td>\n",
       "      <td>1056</td>\n",
       "      <td>1047</td>\n",
       "      <td>1112</td>\n",
       "      <td>903</td>\n",
       "      <td>820</td>\n",
       "      <td>652</td>\n",
       "    </tr>\n",
       "    <tr>\n",
       "      <th>2</th>\n",
       "      <td>345</td>\n",
       "      <td>205</td>\n",
       "      <td>146</td>\n",
       "      <td>113</td>\n",
       "      <td>84</td>\n",
       "      <td>85</td>\n",
       "      <td>185</td>\n",
       "      <td>399</td>\n",
       "      <td>647</td>\n",
       "      <td>635</td>\n",
       "      <td>...</td>\n",
       "      <td>567</td>\n",
       "      <td>643</td>\n",
       "      <td>727</td>\n",
       "      <td>785</td>\n",
       "      <td>818</td>\n",
       "      <td>909</td>\n",
       "      <td>812</td>\n",
       "      <td>746</td>\n",
       "      <td>590</td>\n",
       "      <td>573</td>\n",
       "    </tr>\n",
       "    <tr>\n",
       "      <th>3</th>\n",
       "      <td>422</td>\n",
       "      <td>232</td>\n",
       "      <td>151</td>\n",
       "      <td>117</td>\n",
       "      <td>86</td>\n",
       "      <td>89</td>\n",
       "      <td>171</td>\n",
       "      <td>403</td>\n",
       "      <td>605</td>\n",
       "      <td>593</td>\n",
       "      <td>...</td>\n",
       "      <td>573</td>\n",
       "      <td>591</td>\n",
       "      <td>635</td>\n",
       "      <td>695</td>\n",
       "      <td>800</td>\n",
       "      <td>816</td>\n",
       "      <td>771</td>\n",
       "      <td>728</td>\n",
       "      <td>674</td>\n",
       "      <td>597</td>\n",
       "    </tr>\n",
       "    <tr>\n",
       "      <th>4</th>\n",
       "      <td>472</td>\n",
       "      <td>329</td>\n",
       "      <td>234</td>\n",
       "      <td>158</td>\n",
       "      <td>145</td>\n",
       "      <td>97</td>\n",
       "      <td>186</td>\n",
       "      <td>450</td>\n",
       "      <td>649</td>\n",
       "      <td>601</td>\n",
       "      <td>...</td>\n",
       "      <td>603</td>\n",
       "      <td>661</td>\n",
       "      <td>773</td>\n",
       "      <td>876</td>\n",
       "      <td>1065</td>\n",
       "      <td>1112</td>\n",
       "      <td>1120</td>\n",
       "      <td>970</td>\n",
       "      <td>1088</td>\n",
       "      <td>1077</td>\n",
       "    </tr>\n",
       "    <tr>\n",
       "      <th>5</th>\n",
       "      <td>987</td>\n",
       "      <td>848</td>\n",
       "      <td>637</td>\n",
       "      <td>550</td>\n",
       "      <td>440</td>\n",
       "      <td>227</td>\n",
       "      <td>162</td>\n",
       "      <td>221</td>\n",
       "      <td>334</td>\n",
       "      <td>457</td>\n",
       "      <td>...</td>\n",
       "      <td>710</td>\n",
       "      <td>758</td>\n",
       "      <td>797</td>\n",
       "      <td>869</td>\n",
       "      <td>991</td>\n",
       "      <td>1061</td>\n",
       "      <td>1108</td>\n",
       "      <td>1141</td>\n",
       "      <td>1136</td>\n",
       "      <td>1213</td>\n",
       "    </tr>\n",
       "    <tr>\n",
       "      <th>6</th>\n",
       "      <td>1388</td>\n",
       "      <td>1240</td>\n",
       "      <td>879</td>\n",
       "      <td>922</td>\n",
       "      <td>717</td>\n",
       "      <td>388</td>\n",
       "      <td>242</td>\n",
       "      <td>226</td>\n",
       "      <td>265</td>\n",
       "      <td>396</td>\n",
       "      <td>...</td>\n",
       "      <td>738</td>\n",
       "      <td>834</td>\n",
       "      <td>794</td>\n",
       "      <td>844</td>\n",
       "      <td>859</td>\n",
       "      <td>955</td>\n",
       "      <td>906</td>\n",
       "      <td>809</td>\n",
       "      <td>713</td>\n",
       "      <td>566</td>\n",
       "    </tr>\n",
       "  </tbody>\n",
       "</table>\n",
       "<p>7 rows × 24 columns</p>\n",
       "</div>"
      ],
      "text/plain": [
       "hour       0     1    2    3    4    5    6    7    8    9   ...    14   15  \\\n",
       "weekday                                                      ...              \n",
       "0         435   302  189  132  155  128  231  532  794  702  ...   624  662   \n",
       "1         372   243  155  104  117  112  210  468  785  762  ...   724  737   \n",
       "2         345   205  146  113   84   85  185  399  647  635  ...   567  643   \n",
       "3         422   232  151  117   86   89  171  403  605  593  ...   573  591   \n",
       "4         472   329  234  158  145   97  186  450  649  601  ...   603  661   \n",
       "5         987   848  637  550  440  227  162  221  334  457  ...   710  758   \n",
       "6        1388  1240  879  922  717  388  242  226  265  396  ...   738  834   \n",
       "\n",
       "hour      16   17    18    19    20    21    22    23  \n",
       "weekday                                                \n",
       "0        698  837   913   911   799   768   633   504  \n",
       "1        846  924  1056  1047  1112   903   820   652  \n",
       "2        727  785   818   909   812   746   590   573  \n",
       "3        635  695   800   816   771   728   674   597  \n",
       "4        773  876  1065  1112  1120   970  1088  1077  \n",
       "5        797  869   991  1061  1108  1141  1136  1213  \n",
       "6        794  844   859   955   906   809   713   566  \n",
       "\n",
       "[7 rows x 24 columns]"
      ]
     },
     "execution_count": 63,
     "metadata": {},
     "output_type": "execute_result"
    }
   ],
   "source": [
    "rides_per_day_hour = rides_per_day_hour.unstack()\n",
    "rides_per_day_hour"
   ]
  },
  {
   "cell_type": "code",
   "execution_count": 67,
   "metadata": {},
   "outputs": [
    {
     "data": {
      "text/plain": [
       "hour\n",
       "0    435.0\n",
       "1    302.0\n",
       "2    189.0\n",
       "3    132.0\n",
       "4    145.0\n",
       "dtype: float64"
      ]
     },
     "execution_count": 67,
     "metadata": {},
     "output_type": "execute_result"
    }
   ],
   "source": [
    "medians_per_hour = rides_per_day_hour.apply(np.median)\n",
    "medians_per_hour.head()"
   ]
  },
  {
   "cell_type": "code",
   "execution_count": 72,
   "metadata": {},
   "outputs": [
    {
     "data": {
      "text/html": [
       "<div>\n",
       "<style>\n",
       "    .dataframe thead tr:only-child th {\n",
       "        text-align: right;\n",
       "    }\n",
       "\n",
       "    .dataframe thead th {\n",
       "        text-align: left;\n",
       "    }\n",
       "\n",
       "    .dataframe tbody tr th {\n",
       "        vertical-align: top;\n",
       "    }\n",
       "</style>\n",
       "<table border=\"1\" class=\"dataframe\">\n",
       "  <thead>\n",
       "    <tr style=\"text-align: right;\">\n",
       "      <th></th>\n",
       "      <th>weekday</th>\n",
       "      <th>hour</th>\n",
       "      <th>VendorID</th>\n",
       "      <th>lpep_pickup_datetime</th>\n",
       "      <th>Lpep_dropoff_datetime</th>\n",
       "      <th>Store_and_fwd_flag</th>\n",
       "      <th>RateCodeID</th>\n",
       "      <th>Pickup_longitude</th>\n",
       "      <th>Pickup_latitude</th>\n",
       "      <th>Dropoff_longitude</th>\n",
       "      <th>...</th>\n",
       "      <th>Fare_amount</th>\n",
       "      <th>Extra</th>\n",
       "      <th>MTA_tax</th>\n",
       "      <th>Tip_amount</th>\n",
       "      <th>Tolls_amount</th>\n",
       "      <th>Ehail_fee</th>\n",
       "      <th>improvement_surcharge</th>\n",
       "      <th>Total_amount</th>\n",
       "      <th>Payment_type</th>\n",
       "      <th>Trip_type</th>\n",
       "    </tr>\n",
       "  </thead>\n",
       "  <tbody>\n",
       "    <tr>\n",
       "      <th>0</th>\n",
       "      <td>0</td>\n",
       "      <td>0</td>\n",
       "      <td>435</td>\n",
       "      <td>435</td>\n",
       "      <td>435</td>\n",
       "      <td>435</td>\n",
       "      <td>435</td>\n",
       "      <td>435</td>\n",
       "      <td>435</td>\n",
       "      <td>435</td>\n",
       "      <td>...</td>\n",
       "      <td>435</td>\n",
       "      <td>435</td>\n",
       "      <td>435</td>\n",
       "      <td>435</td>\n",
       "      <td>435</td>\n",
       "      <td>0</td>\n",
       "      <td>435</td>\n",
       "      <td>435</td>\n",
       "      <td>435</td>\n",
       "      <td>435</td>\n",
       "    </tr>\n",
       "    <tr>\n",
       "      <th>1</th>\n",
       "      <td>0</td>\n",
       "      <td>1</td>\n",
       "      <td>302</td>\n",
       "      <td>302</td>\n",
       "      <td>302</td>\n",
       "      <td>302</td>\n",
       "      <td>302</td>\n",
       "      <td>302</td>\n",
       "      <td>302</td>\n",
       "      <td>302</td>\n",
       "      <td>...</td>\n",
       "      <td>302</td>\n",
       "      <td>302</td>\n",
       "      <td>302</td>\n",
       "      <td>302</td>\n",
       "      <td>302</td>\n",
       "      <td>0</td>\n",
       "      <td>302</td>\n",
       "      <td>302</td>\n",
       "      <td>302</td>\n",
       "      <td>302</td>\n",
       "    </tr>\n",
       "    <tr>\n",
       "      <th>2</th>\n",
       "      <td>0</td>\n",
       "      <td>2</td>\n",
       "      <td>189</td>\n",
       "      <td>189</td>\n",
       "      <td>189</td>\n",
       "      <td>189</td>\n",
       "      <td>189</td>\n",
       "      <td>189</td>\n",
       "      <td>189</td>\n",
       "      <td>189</td>\n",
       "      <td>...</td>\n",
       "      <td>189</td>\n",
       "      <td>189</td>\n",
       "      <td>189</td>\n",
       "      <td>189</td>\n",
       "      <td>189</td>\n",
       "      <td>0</td>\n",
       "      <td>189</td>\n",
       "      <td>189</td>\n",
       "      <td>189</td>\n",
       "      <td>189</td>\n",
       "    </tr>\n",
       "    <tr>\n",
       "      <th>3</th>\n",
       "      <td>0</td>\n",
       "      <td>3</td>\n",
       "      <td>132</td>\n",
       "      <td>132</td>\n",
       "      <td>132</td>\n",
       "      <td>132</td>\n",
       "      <td>132</td>\n",
       "      <td>132</td>\n",
       "      <td>132</td>\n",
       "      <td>132</td>\n",
       "      <td>...</td>\n",
       "      <td>132</td>\n",
       "      <td>132</td>\n",
       "      <td>132</td>\n",
       "      <td>132</td>\n",
       "      <td>132</td>\n",
       "      <td>0</td>\n",
       "      <td>132</td>\n",
       "      <td>132</td>\n",
       "      <td>132</td>\n",
       "      <td>132</td>\n",
       "    </tr>\n",
       "    <tr>\n",
       "      <th>4</th>\n",
       "      <td>0</td>\n",
       "      <td>4</td>\n",
       "      <td>155</td>\n",
       "      <td>155</td>\n",
       "      <td>155</td>\n",
       "      <td>155</td>\n",
       "      <td>155</td>\n",
       "      <td>155</td>\n",
       "      <td>155</td>\n",
       "      <td>155</td>\n",
       "      <td>...</td>\n",
       "      <td>155</td>\n",
       "      <td>155</td>\n",
       "      <td>155</td>\n",
       "      <td>155</td>\n",
       "      <td>155</td>\n",
       "      <td>0</td>\n",
       "      <td>155</td>\n",
       "      <td>155</td>\n",
       "      <td>155</td>\n",
       "      <td>155</td>\n",
       "    </tr>\n",
       "  </tbody>\n",
       "</table>\n",
       "<p>5 rows × 23 columns</p>\n",
       "</div>"
      ],
      "text/plain": [
       "   weekday  hour  VendorID  lpep_pickup_datetime  Lpep_dropoff_datetime  \\\n",
       "0        0     0       435                   435                    435   \n",
       "1        0     1       302                   302                    302   \n",
       "2        0     2       189                   189                    189   \n",
       "3        0     3       132                   132                    132   \n",
       "4        0     4       155                   155                    155   \n",
       "\n",
       "   Store_and_fwd_flag  RateCodeID  Pickup_longitude  Pickup_latitude  \\\n",
       "0                 435         435               435              435   \n",
       "1                 302         302               302              302   \n",
       "2                 189         189               189              189   \n",
       "3                 132         132               132              132   \n",
       "4                 155         155               155              155   \n",
       "\n",
       "   Dropoff_longitude    ...      Fare_amount  Extra  MTA_tax  Tip_amount  \\\n",
       "0                435    ...              435    435      435         435   \n",
       "1                302    ...              302    302      302         302   \n",
       "2                189    ...              189    189      189         189   \n",
       "3                132    ...              132    132      132         132   \n",
       "4                155    ...              155    155      155         155   \n",
       "\n",
       "   Tolls_amount  Ehail_fee  improvement_surcharge  Total_amount  Payment_type  \\\n",
       "0           435          0                    435           435           435   \n",
       "1           302          0                    302           302           302   \n",
       "2           189          0                    189           189           189   \n",
       "3           132          0                    132           132           132   \n",
       "4           155          0                    155           155           155   \n",
       "\n",
       "   Trip_type  \n",
       "0        435  \n",
       "1        302  \n",
       "2        189  \n",
       "3        132  \n",
       "4        155  \n",
       "\n",
       "[5 rows x 23 columns]"
      ]
     },
     "execution_count": 72,
     "metadata": {},
     "output_type": "execute_result"
    }
   ],
   "source": [
    "# groupby on more than one column creates a multi-index DataFrame\n",
    "# unstack - separates the multi index into rows and columns (but it is complicated for more than 2 groupby column and thus not recommended)\n",
    "# then median on days in the resulting data frame gives us the required result.\n",
    "\n",
    "# a better way to solve this:\n",
    "count = df.groupby(['weekday', 'hour'], as_index=False).count()  # as_index=False - does not stack the columns into multi index\n",
    "count.head()"
   ]
  },
  {
   "cell_type": "code",
   "execution_count": 74,
   "metadata": {},
   "outputs": [
    {
     "data": {
      "text/plain": [
       "hour\n",
       "0    435\n",
       "1    302\n",
       "2    189\n",
       "3    132\n",
       "4    145\n",
       "Name: VendorID, dtype: int64"
      ]
     },
     "execution_count": 74,
     "metadata": {},
     "output_type": "execute_result"
    }
   ],
   "source": [
    "# group the result of first groupby, the counts, by hour, then select a single column and perform median\n",
    "hourly = count.groupby('hour').median()['VendorID']  # select one column\n",
    "hourly.head()"
   ]
  },
  {
   "cell_type": "code",
   "execution_count": 81,
   "metadata": {},
   "outputs": [
    {
     "data": {
      "text/plain": [
       "<matplotlib.text.Text at 0x1962fdacbe0>"
      ]
     },
     "execution_count": 81,
     "metadata": {},
     "output_type": "execute_result"
    },
    {
     "data": {
      "image/png": "[encoded data removed]",
      "text/plain": [
       "<matplotlib.figure.Figure at 0x1962b3afba8>"
      ]
     },
     "metadata": {},
     "output_type": "display_data"
    }
   ],
   "source": [
    "import matplotlib.pyplot as plt\n",
    "plt.style.use('fivethirtyeight')\n",
    "plt.rcParams['figure.figsize'] = (10, 6)  # in inches\n",
    "ax = hourly.plot.bar(rot=45)\n",
    "ax.set_xlabel('Hour')\n",
    "ax.set_title('Median Hourly Rides');\n",
    "ax.set_ylabel('# rides')\n",
    "\n",
    "# in solutions there is also a breakdown by vendors"
   ]
  },
  {
   "cell_type": "markdown",
   "metadata": {},
   "source": [
    "## Box Plot per VendorID of Daily Earnings\n",
    "\n",
    "2 boxplots, one per vendor, present daily earnings"
   ]
  },
  {
   "cell_type": "code",
   "execution_count": 84,
   "metadata": {},
   "outputs": [
    {
     "data": {
      "image/png": "[encoded data removed]",
      "text/plain": [
       "<matplotlib.figure.Figure at 0x1962cce4cf8>"
      ]
     },
     "metadata": {},
     "output_type": "display_data"
    }
   ],
   "source": [
    "# we can do this by 2 group by steps, but also through PIVOT\n",
    "\n",
    "edf = df[['VendorID', 'Total_amount', 'weekday']]\n",
    "pivot_edf = edf.pivot_table(index='weekday', columns='VendorID', values='Total_amount', aggfunc=np.sum)\n",
    "# create a new dataframe pivot from edf, define index as the day, columns as vendor, values as the total amount, and aggregation function indicates what to do for values that fall into same bin of column and index\n",
    "pivot_edf.plot.box();"
   ]
  },
  {
   "cell_type": "code",
   "execution_count": null,
   "metadata": {
    "collapsed": true
   },
   "outputs": [],
   "source": []
  }
 ],
 "metadata": {
  "kernelspec": {
   "display_name": "Python 3",
   "language": "python",
   "name": "python3"
  },
  "language_info": {
   "codemirror_mode": {
    "name": "ipython",
    "version": 3
   },
   "file_extension": ".py",
   "mimetype": "text/x-python",
   "name": "python",
   "nbconvert_exporter": "python",
   "pygments_lexer": "ipython3",
   "version": "3.6.1"
  }
 },
 "nbformat": 4,
 "nbformat_minor": 2
}
